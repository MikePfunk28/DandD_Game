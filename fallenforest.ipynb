{
 "cells": [
  {
   "cell_type": "markdown",
   "metadata": {},
   "source": [
    "ok lets work on moving the player and getting some sort of UI made.  Also, can you help me with a prompt for SORA, video generator.  \n",
    "\n",
    "That will depict a 10sec clip of the opening scene.  The desk and laptop with the message.  I need a good prompt that will create that in a engaging and exciting way, so I can put it into sora to generate the video for the opening scene. \n",
    "\n",
    " It says, if youre reading this it might be too late.  Its a dark room with the comp desk light on, the laptop facing where the player enters from, and the light is flickering."
   ]
  },
  {
   "cell_type": "markdown",
   "metadata": {},
   "source": [
    "# Prompt\n",
    "\n",
    "\"In a dimly lit room filled with shadows, a sleek modern desk sits under a flickering cool white desk lamp. The laptop on the desk glows faintly, its screen facing the camera with a haunting message in bold, glitchy white font: 'If you're reading this, it might be too late.' The text distorts briefly, revealing a follow-up line: 'Check the firewall before it’s too late…' The light flickers erratically, briefly plunging the room into darkness. Faint outlines of scattered papers and a tipped-over chair suggest someone left in haste. The faint hum of the laptop grows louder as the screen flickers, briefly showing AWS service icons like Lambda, EC2, and S3, before returning to the message. In the background, the faint sound of distant thunder or a muffled alarm can be heard, adding to the tension. The camera slowly zooms in on the laptop, emphasizing the urgency of the message as shadows dance across the room.\"\n",
    "\n"
   ]
  },
  {
   "cell_type": "markdown",
   "metadata": {},
   "source": [
    "Not sure if anyone has noticed, OpenAI has released Sora, their video generation application.  Its pretty neat that it can make a video from a prompt .  Considering I cannot get any of them to spell anything correct ever, this is somehow making videos.\n",
    "I am trying to use this to make short scene for the video game for the devPost hackathon.  Its mainly an Amazon Q AI game, however, I think using sora for video cannot hurt.  I had chatgpt come up with the prompt for this video, which is below.\n",
    "Prompt:\n",
    "\"In a dimly lit room filled with shadows, a sleek modern desk sits under a flickering cool white desk lamp. The laptop on the desk glows faintly, its screen facing the camera with a haunting message in bold, glitchy white font: 'If you're reading this, it might be too late.' The text distorts briefly, revealing a follow-up line: 'Check the firewall before it’s too late…' The light flickers erratically, briefly plunging the room into darkness. Faint outlines of scattered papers and a tipped-over chair suggest someone left in haste. The faint hum of the laptop grows louder as the screen flickers, briefly showing AWS service icons like Lambda, EC2, and S3, before returning to the message. In the background, the faint sound of distant thunder or a muffled alarm can be heard, adding to the tension. The camera slowly zooms in on the laptop, emphasizing the urgency of the message as shadows dance across the room.\"\n",
    "And here is the video it made:\n",
    "I cannot lie, the video is probably not something I can or would use, however, from a prompt to this is pretty incredible.  I think it took 10 seconds."
   ]
  }
 ],
 "metadata": {
  "language_info": {
   "name": "python"
  }
 },
 "nbformat": 4,
 "nbformat_minor": 2
}
